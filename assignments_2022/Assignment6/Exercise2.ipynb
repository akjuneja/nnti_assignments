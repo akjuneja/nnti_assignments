{
 "cells": [
  {
   "cell_type": "markdown",
   "id": "roIJZMzjDrV6",
   "metadata": {
    "id": "roIJZMzjDrV6"
   },
   "source": [
    "### Note: This assignment will extensively refer to coding exercise in assignment 4."
   ]
  },
  {
   "cell_type": "markdown",
   "id": "lAQ5gnkLDrV-",
   "metadata": {
    "id": "lAQ5gnkLDrV-"
   },
   "source": [
    "## 6.2.a Building your own Neural-Network"
   ]
  },
  {
   "cell_type": "markdown",
   "id": "1Iu1rKVSDrWA",
   "metadata": {
    "id": "1Iu1rKVSDrWA"
   },
   "source": [
    "Import numpy, which is really all we need to create our own NN."
   ]
  },
  {
   "cell_type": "code",
   "execution_count": 1,
   "id": "oXOyTY_aDrWC",
   "metadata": {
    "colab": {
     "base_uri": "https://localhost:8080/"
    },
    "id": "oXOyTY_aDrWC",
    "outputId": "5c3236e3-eb20-4878-8921-61285581a7a5"
   },
   "outputs": [
    {
     "data": {
      "text/plain": [
       "<torch._C.Generator at 0x7f2f3c092d70>"
      ]
     },
     "execution_count": 1,
     "metadata": {},
     "output_type": "execute_result"
    }
   ],
   "source": [
    "import numpy as np\n",
    "# Remember to Fix your seeds for pytorch and numpy\n",
    "import torch\n",
    "import random\n",
    "\n",
    "random.seed(42)\n",
    "np.random.seed(42)\n",
    "torch.manual_seed(42)"
   ]
  },
  {
   "cell_type": "markdown",
   "id": "19pCXfQcDrWH",
   "metadata": {
    "id": "19pCXfQcDrWH"
   },
   "source": [
    "Recall that our simple neural network consisted of two layers. We also added an `activation` function as a non-linearity to the output of our intermediate layer. Given an input $\\mathbf{x} \\in \\mathbb{R}^n $ we have\n",
    "\n",
    "$ \\mathbf{h} = f^{(1)}(\\mathbf{x}; \\mathbf{W},c) = activation\\_fn(\\mathbf{W}^\\mathsf{T} \\mathbf{x} + c) $ \n",
    "\n",
    "$ \\mathbf{y} = f^{(2)}(\\mathbf{h}; \\mathbf{w},b) = \\text{$ softmax $}( \\mathbf{w}^\\mathsf{T} \\mathbf{h} + b) $"
   ]
  },
  {
   "cell_type": "markdown",
   "id": "bCvXJr30DrWJ",
   "metadata": {
    "id": "bCvXJr30DrWJ"
   },
   "source": [
    "In this exercise you will create your own network and are free to implement it with your own design choices. However, we will do it in a way that allows you to specify the depth of network, i.e. we extend our network such that there isn't just one $\\mathbf{h}$ intermediate layers, but rather $n$ of them $\\mathbf{h}_{i}$ with $i \\in \\{1,..., n\\}$\n",
    "\n",
    "**NOTE**: You are not allowed to use any built-in functions to calculate Leaky_ReLU, Softmax or the forward/backward pass directly.\n",
    "\n",
    "**NOTE 2**: Remember to include the non-linearity at every layer. Remember to also add the bias to every layer. Finally, remember to apply the softmax in the output layer."
   ]
  },
  {
   "cell_type": "markdown",
   "id": "U8J6bMLKDrWM",
   "metadata": {
    "id": "U8J6bMLKDrWM"
   },
   "source": [
    "## ToDo: Rewrite the Leaky_ReLu and Softmax function as Class and implement a function in each of them to calculate gradients (1 point)\n",
    "Remember that in PyTorch, these are implemented as classes so we also want to have them as classes."
   ]
  },
  {
   "cell_type": "code",
   "execution_count": 235,
   "id": "13US03kwDrWP",
   "metadata": {
    "id": "13US03kwDrWP"
   },
   "outputs": [],
   "source": [
    "class leaky_relu:\n",
    "    \"\"\"\n",
    "    Recall your implementation of relu function in assignment 4 and try to implement\n",
    "    Leaky_ReLu similarily, but as a class with a function to calculate gradient\n",
    "    \"\"\"\n",
    "    # TODO: Implement\n",
    "    def __init__(self):\n",
    "        self.leak = 0.1\n",
    "\n",
    "    def __call__(self, x):\n",
    "      return self.forward(x)\n",
    "\n",
    "\n",
    "    def forward(self, x):\n",
    "        self.x = x\n",
    "        return x * (x > 0) + x * self.leak * (x < 0)\n",
    "    \n",
    "    def backward(self):\n",
    "        x = self.x\n",
    "        return (x > 0) + self.leak * (x < 0)\n"
   ]
  },
  {
   "cell_type": "code",
   "execution_count": 236,
   "id": "HYFpS0uEDrWV",
   "metadata": {
    "id": "HYFpS0uEDrWV"
   },
   "outputs": [],
   "source": [
    "class softmax:\n",
    "    \"\"\"\n",
    "    Recall your implementation of softmax function in assignment 4 and try to implement\n",
    "    softmax similarily, but as a class with a function to calculate gradient\n",
    "    \"\"\"\n",
    "    # TODO: Implement\n",
    "\n",
    "    def __call__(self, x):\n",
    "      return self.forward(x)\n",
    "\n",
    "\n",
    "    def forward(self, x):\n",
    "        self.x = x\n",
    "        return np.exp(x)/sum(np.exp(x))\n",
    "\n",
    "    \n",
    "    def backward(self):\n",
    "        x = self.x\n",
    "        jacobian_m = np.diag(x)\n",
    "        \n",
    "        for i in range(len(jacobian_m)):\n",
    "            for j in range(len(jacobian_m)):\n",
    "                if i == j:\n",
    "                    jacobian_m[i][j] = x[i] * (1 - x[i])\n",
    "                else: \n",
    "                    jacobian_m[i][j] = -x[i]* x[j]\n",
    "        \n",
    "        return jacobian_m"
   ]
  },
  {
   "cell_type": "markdown",
   "id": "YGfqrB1tDrWY",
   "metadata": {
    "id": "YGfqrB1tDrWY"
   },
   "source": [
    "## ToDo: Calculate the gradient using your implemented functions in their respective classes and validate by manually calculating gradients using a toy value. (1 point)"
   ]
  },
  {
   "cell_type": "code",
   "execution_count": 248,
   "id": "AWvYgxvLDrWa",
   "metadata": {
    "colab": {
     "base_uri": "https://localhost:8080/"
    },
    "id": "AWvYgxvLDrWa",
    "outputId": "fb2bea77-1e64-4fed-f879-5d42ec67c0a8"
   },
   "outputs": [
    {
     "name": "stdout",
     "output_type": "stream",
     "text": [
      "10.0\n",
      "1.0\n",
      "-1.0\n",
      "0.1\n",
      "tensor([0.3333, 0.3333, 0.3333])\n",
      "tensor([0.3333, 0.3333, 0.3333])\n"
     ]
    },
    {
     "data": {
      "text/plain": [
       "array([[ 0., -1., -1.],\n",
       "       [-1.,  0., -1.],\n",
       "       [-1., -1.,  0.]], dtype=float32)"
      ]
     },
     "execution_count": 248,
     "metadata": {},
     "output_type": "execute_result"
    }
   ],
   "source": [
    "## Solution\n",
    "\n",
    "lr_layer = leaky_relu()\n",
    "print(lr_layer.forward(10))\n",
    "print(lr_layer.backward()) # I believe it is obvious for leaky relu\n",
    "print(lr_layer.forward(-10))\n",
    "print(lr_layer.backward()) # it is set to have 0.1 leakage for negative values \n",
    "\n",
    "\n",
    "inp = torch.Tensor([1,1,1])\n",
    "\n",
    "sm_layer = softmax()\n",
    "print(sm_layer.forward(inp))  # since softmax gives each one a probability with respect to their value, it is expected to print .3 .3 .3 since all of them have the same value\n",
    "sm = torch.nn.Softmax(0)\n",
    "print(sm(inp))\n",
    "sm_layer.backward()"
   ]
  },
  {
   "cell_type": "markdown",
   "id": "PkeybdlGDrWd",
   "metadata": {
    "id": "PkeybdlGDrWd"
   },
   "source": [
    "## ToDo: Rewrite the code from Assignment 4 to include backpropagation in your class without using pytorch. Remember to use your Leaky_ReLu class here as activation function. (1.5 points)\n",
    "#### Feel free to refer to your solutions from Assignment 4."
   ]
  },
  {
   "cell_type": "code",
   "execution_count": 286,
   "id": "uHo63aaEDrWe",
   "metadata": {
    "id": "uHo63aaEDrWe"
   },
   "outputs": [],
   "source": [
    "class Layer:\n",
    "    def __init__(self, size, index, activation='leaky_relu'):\n",
    "        self.size = size \n",
    "        self.layer_index = index \n",
    "        self.a = 0 \n",
    "        self.z = 0 \n",
    "        self.act = leaky_relu() if activation == 'leaky_relu' else softmax()\n",
    "        \n",
    "    def init_weight(self, input_shape, output_shape):\n",
    "        mean = 0\n",
    "        std = np.sqrt(2/(input_shape + output_shape))\n",
    "        self.weights = np.float32(np.random.uniform(-std, std, (output_shape, input_shape)))\n",
    "        self.bias = np.float32(np.random.uniform(-std, std, (output_shape,1)))\n",
    "    \n",
    "    def activation(self, inputs):\n",
    "        self.z = np.dot(self.weights,inputs) + self.bias\n",
    "        self.a = self.act(self.z)\n",
    "        return self.a\n",
    "    \n",
    "    def activation_grad(self):\n",
    "        return self.act.backward()\n",
    "\n",
    "\n",
    "class FFNetwork:\n",
    "    \"\"\"\n",
    "    Class representing the feed-forward neural network\n",
    "    \"\"\"\n",
    "    def __init__(self, input_dim: int, hidden_dim: int,\n",
    "                 output_dim: int, hidden_size: int):\n",
    "        \"\"\"\n",
    "        Args:\n",
    "        input_dim: dimensionality of `x`\n",
    "        hidden_dim: dimensionality of the intermediate `h_i`\n",
    "        output_dim: dimensionality of `y`\n",
    "        hidden_size: number of intermediate layers `h_i`\n",
    "        \"\"\"\n",
    "        # TODO: Implement\n",
    "        # Initialize each layer as a random matrix of the\n",
    "        # appropriate dimensions\n",
    "        \n",
    "        ## SOLUTION ##\n",
    "        self.lrelu = leaky_relu()\n",
    "        self.softmax = softmax()\n",
    "        self.hidden_size = hidden_size\n",
    "        self.layers = []\n",
    "\n",
    "\n",
    "        input_layer = Layer(input_dim, 0)\n",
    "        input_layer.init_weight(28*28, hidden_dim)\n",
    "        self.layers.append(input_layer)\n",
    "\n",
    "        \n",
    "        for i in range(hidden_size):\n",
    "            hidden_layer = Layer(hidden_dim, i+1)\n",
    "            hidden_layer.init_weight(hidden_dim, hidden_dim)\n",
    "            self.layers.append(hidden_layer)\n",
    "        \n",
    "\n",
    "        output_layer = Layer(output_dim, hidden_size+1, 'softmax')\n",
    "        output_layer.init_weight(hidden_dim, output_dim)\n",
    "        self.layers.append(output_layer)\n",
    "\n",
    "    def forward_propogation(self, Xs):\n",
    "        results = []\n",
    "        for X in Xs:\n",
    "            a = X\n",
    "            for layer in self.layers:\n",
    "                a = layer.activation(a)\n",
    "            results.append(a)\n",
    "        return results\n",
    "    \n",
    "    def backpropogate(self, Xy):\n",
    "        X, y = Xy\n",
    "        delta = list()\n",
    "        delta_w = [0 for _ in range(len(self.layers))]\n",
    "        delta_b = [0 for _ in range(len(self.layers))]\n",
    "        error_o = (self.layers[-1].z - y.T.detach().numpy())\n",
    "        for i in reversed(range(len(self.layers) - 1)):\n",
    "            error_i = np.multiply(self.layers[i+1].weights.T.dot(error_o), self.layers[i].activation_grad())\n",
    "            delta_w[i+1] = error_o.dot(self.layers[i].a.T)/len(y)\n",
    "            delta_b[i+1] = np.sum(error_o, axis=1, keepdims=True)/len(y)\n",
    "            error_o = error_i\n",
    "        delta_w[0] = error_o.dot(X)\n",
    "        delta_b[0] = np.sum(error_o, axis=1, keepdims=True)/len(y)\n",
    "        return (delta_w, delta_b)\n",
    "        "
   ]
  },
  {
   "cell_type": "code",
   "execution_count": 287,
   "id": "hTRU_tU0O5rj",
   "metadata": {
    "id": "hTRU_tU0O5rj"
   },
   "outputs": [],
   "source": [
    "model = FFNetwork(28*28, 100, 10, 10)"
   ]
  },
  {
   "cell_type": "code",
   "execution_count": 288,
   "id": "6892hgi1Pfg7",
   "metadata": {
    "colab": {
     "base_uri": "https://localhost:8080/"
    },
    "id": "6892hgi1Pfg7",
    "outputId": "303043ba-ef4d-462b-ca9b-f49a5d02f6e9"
   },
   "outputs": [
    {
     "data": {
      "text/plain": [
       "[<__main__.Layer at 0x7f2f2c42eb80>,\n",
       " <__main__.Layer at 0x7f2f2c42eb50>,\n",
       " <__main__.Layer at 0x7f2f2c42e1f0>,\n",
       " <__main__.Layer at 0x7f2f2c42e520>,\n",
       " <__main__.Layer at 0x7f2f2c42ef40>,\n",
       " <__main__.Layer at 0x7f2f2c42eca0>,\n",
       " <__main__.Layer at 0x7f2f2c42ed00>,\n",
       " <__main__.Layer at 0x7f2f2c42ef10>,\n",
       " <__main__.Layer at 0x7f2f2c42e8e0>,\n",
       " <__main__.Layer at 0x7f2f2c42ec10>,\n",
       " <__main__.Layer at 0x7f2f2c42e5b0>,\n",
       " <__main__.Layer at 0x7f2f2c42ea90>]"
      ]
     },
     "execution_count": 288,
     "metadata": {},
     "output_type": "execute_result"
    }
   ],
   "source": [
    "model.layers"
   ]
  },
  {
   "cell_type": "code",
   "execution_count": 289,
   "id": "bafBOx-AUuES",
   "metadata": {
    "id": "bafBOx-AUuES"
   },
   "outputs": [],
   "source": [
    "import torch\n",
    "import torch.nn.functional as F\n",
    "import torchvision\n",
    "\n",
    "from torch import nn\n",
    "from torch.utils.data import DataLoader\n",
    "from torchvision.datasets import MNIST\n",
    "import torchvision.transforms as T\n",
    "\n",
    "dataset_flatten = MNIST(root='.', download=True, transform=T.Compose([T.ToTensor(), T.Lambda(lambda x: torch.flatten(x))]))\n",
    "data_loader = torch.utils.data.DataLoader(dataset_flatten,\n",
    "                                          batch_size=1,\n",
    "                                          shuffle=True)"
   ]
  },
  {
   "cell_type": "code",
   "execution_count": 290,
   "id": "5rAhrssCPR6t",
   "metadata": {
    "id": "5rAhrssCPR6t"
   },
   "outputs": [],
   "source": [
    "data = next(iter(data_loader))\n",
    "res = model.forward_propogation(torch.Tensor(data[0]))"
   ]
  },
  {
   "cell_type": "code",
   "execution_count": 292,
   "id": "fzDOyCymVwsl",
   "metadata": {
    "colab": {
     "base_uri": "https://localhost:8080/",
     "height": 289
    },
    "id": "fzDOyCymVwsl",
    "outputId": "fa0604e8-eb3b-423f-d693-ab8517d1eaf5"
   },
   "outputs": [
    {
     "ename": "ValueError",
     "evalue": "ignored",
     "output_type": "error",
     "traceback": [
      "\u001b[0;31m---------------------------------------------------------------------------\u001b[0m",
      "\u001b[0;31mValueError\u001b[0m                                Traceback (most recent call last)",
      "\u001b[0;32m<ipython-input-292-0d27efdc5b22>\u001b[0m in \u001b[0;36m<module>\u001b[0;34m\u001b[0m\n\u001b[0;32m----> 1\u001b[0;31m \u001b[0mmodel\u001b[0m\u001b[0;34m.\u001b[0m\u001b[0mbackpropogate\u001b[0m\u001b[0;34m(\u001b[0m\u001b[0mdata\u001b[0m\u001b[0;34m)\u001b[0m\u001b[0;34m\u001b[0m\u001b[0;34m\u001b[0m\u001b[0m\n\u001b[0m",
      "\u001b[0;32m<ipython-input-286-99d8c896f83d>\u001b[0m in \u001b[0;36mbackpropogate\u001b[0;34m(self, Xy)\u001b[0m\n\u001b[1;32m     81\u001b[0m             \u001b[0mdelta_b\u001b[0m\u001b[0;34m[\u001b[0m\u001b[0mi\u001b[0m\u001b[0;34m+\u001b[0m\u001b[0;36m1\u001b[0m\u001b[0;34m]\u001b[0m \u001b[0;34m=\u001b[0m \u001b[0mnp\u001b[0m\u001b[0;34m.\u001b[0m\u001b[0msum\u001b[0m\u001b[0;34m(\u001b[0m\u001b[0merror_o\u001b[0m\u001b[0;34m,\u001b[0m \u001b[0maxis\u001b[0m\u001b[0;34m=\u001b[0m\u001b[0;36m1\u001b[0m\u001b[0;34m,\u001b[0m \u001b[0mkeepdims\u001b[0m\u001b[0;34m=\u001b[0m\u001b[0;32mTrue\u001b[0m\u001b[0;34m)\u001b[0m\u001b[0;34m/\u001b[0m\u001b[0mlen\u001b[0m\u001b[0;34m(\u001b[0m\u001b[0my\u001b[0m\u001b[0;34m)\u001b[0m\u001b[0;34m\u001b[0m\u001b[0;34m\u001b[0m\u001b[0m\n\u001b[1;32m     82\u001b[0m             \u001b[0merror_o\u001b[0m \u001b[0;34m=\u001b[0m \u001b[0merror_i\u001b[0m\u001b[0;34m\u001b[0m\u001b[0;34m\u001b[0m\u001b[0m\n\u001b[0;32m---> 83\u001b[0;31m         \u001b[0mdelta_w\u001b[0m\u001b[0;34m[\u001b[0m\u001b[0;36m0\u001b[0m\u001b[0;34m]\u001b[0m \u001b[0;34m=\u001b[0m \u001b[0merror_o\u001b[0m\u001b[0;34m.\u001b[0m\u001b[0mdot\u001b[0m\u001b[0;34m(\u001b[0m\u001b[0mX\u001b[0m\u001b[0;34m)\u001b[0m\u001b[0;34m\u001b[0m\u001b[0;34m\u001b[0m\u001b[0m\n\u001b[0m\u001b[1;32m     84\u001b[0m         \u001b[0mdelta_b\u001b[0m\u001b[0;34m[\u001b[0m\u001b[0;36m0\u001b[0m\u001b[0;34m]\u001b[0m \u001b[0;34m=\u001b[0m \u001b[0mnp\u001b[0m\u001b[0;34m.\u001b[0m\u001b[0msum\u001b[0m\u001b[0;34m(\u001b[0m\u001b[0merror_o\u001b[0m\u001b[0;34m,\u001b[0m \u001b[0maxis\u001b[0m\u001b[0;34m=\u001b[0m\u001b[0;36m1\u001b[0m\u001b[0;34m,\u001b[0m \u001b[0mkeepdims\u001b[0m\u001b[0;34m=\u001b[0m\u001b[0;32mTrue\u001b[0m\u001b[0;34m)\u001b[0m\u001b[0;34m/\u001b[0m\u001b[0mlen\u001b[0m\u001b[0;34m(\u001b[0m\u001b[0my\u001b[0m\u001b[0;34m)\u001b[0m\u001b[0;34m\u001b[0m\u001b[0;34m\u001b[0m\u001b[0m\n\u001b[1;32m     85\u001b[0m         \u001b[0;32mreturn\u001b[0m \u001b[0;34m(\u001b[0m\u001b[0mdelta_w\u001b[0m\u001b[0;34m,\u001b[0m \u001b[0mdelta_b\u001b[0m\u001b[0;34m)\u001b[0m\u001b[0;34m\u001b[0m\u001b[0;34m\u001b[0m\u001b[0m\n",
      "\u001b[0;31mValueError\u001b[0m: shapes (100,100) and (1,784) not aligned: 100 (dim 1) != 1 (dim 0)"
     ]
    }
   ],
   "source": [
    "model.backpropogate(data)"
   ]
  },
  {
   "cell_type": "markdown",
   "id": "R2WS4-NaDrWi",
   "metadata": {
    "id": "R2WS4-NaDrWi",
    "tags": []
   },
   "source": [
    "### 6.2.b.2 Training a network for MNIST (1.5 points)\n",
    "\n",
    "Now that we know how to train a Neural network in Pytorch. Let's start training and evaluating our model using a very standard dataset, for now let's use MNIST. Design a network from scracth using PyTorch and include the followings. Remember that we need to use forward-propagation and backprop.\n",
    "- Training Loop\n",
    "- Optimization \n",
    "- Evaluating Loop"
   ]
  },
  {
   "cell_type": "code",
   "execution_count": 94,
   "id": "9rLwNlKNDrWk",
   "metadata": {
    "id": "9rLwNlKNDrWk"
   },
   "outputs": [],
   "source": [
    "import torch\n",
    "import torch.nn.functional as F\n",
    "import torchvision\n",
    "\n",
    "from torch import nn\n",
    "from torch.utils.data import DataLoader"
   ]
  },
  {
   "cell_type": "code",
   "execution_count": 95,
   "id": "qO1-PNYHDrWm",
   "metadata": {
    "id": "qO1-PNYHDrWm"
   },
   "outputs": [],
   "source": [
    "class TorchFFNetwork(nn.Module):\n",
    "    \"\"\"\n",
    "    A pytorch implementation to do classification for MNIST dataset.\n",
    "    \"\"\"\n",
    "    def __init__(self, n_layers, n_neurons):\n",
    "        super(TorchFFNetwork, self).__init__()\n",
    "\n",
    "        self.n_layers = n_layers\n",
    "        self.n_neurons = n_neurons\n",
    "\n",
    "        setattr(self, 'input_layer', nn.Linear(784, self.n_neurons))\n",
    "        \n",
    "        for i in range(n_layers):\n",
    "            setattr(self, f'hidden_{i}', nn.Linear(n_neurons, n_neurons, bias=True))\n",
    "        \n",
    "        setattr(self, 'output_layer', nn.Linear(n_neurons, 10))\n",
    "\n",
    "        self.lrelu = nn.LeakyReLU(0.1)\n",
    "        self.softmax = nn.Softmax(dim=-1)\n",
    "\n",
    "    def forward(self, inputs):\n",
    "      outputs = list()\n",
    "      for x in inputs:\n",
    "        \n",
    "        x = getattr(self, 'input_layer')(x)\n",
    "\n",
    "        for i in range(self.n_layers):\n",
    "          x = getattr(self, f'hidden_{i}')(x)\n",
    "          x = self.lrelu(x)\n",
    "\n",
    "        x = getattr(self, 'output_layer')(x)\n",
    "        outputs.append(self.softmax(x))\n",
    "      return outputs"
   ]
  },
  {
   "cell_type": "code",
   "execution_count": 96,
   "id": "MLogqYSqFAse",
   "metadata": {
    "id": "MLogqYSqFAse"
   },
   "outputs": [],
   "source": [
    "model = TorchFFNetwork(2, 20)\n",
    "loss_function = nn.CrossEntropyLoss()\n",
    "size=60000\n",
    "learning_rate = 0.01\n",
    "optimizer = torch.optim.SGD(model.parameters(), lr=learning_rate)"
   ]
  },
  {
   "cell_type": "code",
   "execution_count": 97,
   "id": "-5FtciwYDrWp",
   "metadata": {
    "id": "-5FtciwYDrWp"
   },
   "outputs": [],
   "source": [
    "from torchvision.datasets import MNIST\n",
    "import torchvision.transforms as T\n",
    "\n",
    "dataset_flatten = MNIST(root='.', download=True, transform=T.Compose([T.ToTensor(), T.Lambda(lambda x: torch.flatten(x))]))"
   ]
  },
  {
   "cell_type": "code",
   "execution_count": 98,
   "id": "bOcTeI-4sKs_",
   "metadata": {
    "id": "bOcTeI-4sKs_"
   },
   "outputs": [],
   "source": [
    "data_loader = torch.utils.data.DataLoader(dataset_flatten,\n",
    "                                          batch_size=10,\n",
    "                                          shuffle=True)"
   ]
  },
  {
   "cell_type": "code",
   "execution_count": 99,
   "id": "ujSge2swGdRb",
   "metadata": {
    "colab": {
     "base_uri": "https://localhost:8080/"
    },
    "id": "ujSge2swGdRb",
    "outputId": "34188997-20c1-4749-cca2-e6da37e43818"
   },
   "outputs": [
    {
     "name": "stdout",
     "output_type": "stream",
     "text": [
      "loss: 2.241408  [59000/60000]\n",
      "loss: 1.812950  [59000/60000]\n",
      "loss: 1.920570  [59000/60000]\n",
      "loss: 1.725190  [59000/60000]\n",
      "loss: 1.739768  [59000/60000]\n",
      "loss: 1.645784  [59000/60000]\n",
      "loss: 1.762018  [59000/60000]\n",
      "loss: 1.685298  [59000/60000]\n",
      "loss: 1.665389  [59000/60000]\n",
      "loss: 1.463155  [59000/60000]\n"
     ]
    }
   ],
   "source": [
    "losses = []\n",
    "for i in range(10):\n",
    "  for batch, (X, y) in enumerate(data_loader):\n",
    "      # Compute prediction and loss\n",
    "      pred = model(X)\n",
    "      loss = loss_function(torch.stack(pred), torch.eye(10)[y-1])\n",
    "\n",
    "      # Backpropagation\n",
    "      optimizer.zero_grad()\n",
    "      loss.backward()\n",
    "      optimizer.step()\n",
    "\n",
    "      if batch % 100 == 0:\n",
    "          loss, current = loss.item(), batch * len(X)\n",
    "  print(f\"loss: {loss:>7f}  [{current:>5d}/{size:>5d}]\")\n",
    "  losses.append(loss)\n"
   ]
  },
  {
   "cell_type": "code",
   "execution_count": 105,
   "id": "20bF-K4JxM8C",
   "metadata": {
    "colab": {
     "base_uri": "https://localhost:8080/",
     "height": 265
    },
    "id": "20bF-K4JxM8C",
    "outputId": "ce547d9e-2d6d-4171-c51d-6bffd7037666"
   },
   "outputs": [
    {
     "data": {
      "image/png": "[encoded data removed]",
      "text/plain": [
       "<Figure size 432x288 with 1 Axes>"
      ]
     },
     "metadata": {
      "needs_background": "light"
     },
     "output_type": "display_data"
    }
   ],
   "source": [
    "import matplotlib.pyplot as plt\n",
    "l = []\n",
    "for i in losses:\n",
    "  l.append(i.detach().numpy())\n",
    "plt.plot(l)\n",
    "plt.show()"
   ]
  },
  {
   "cell_type": "markdown",
   "id": "eZWdyio9DrWo",
   "metadata": {
    "id": "eZWdyio9DrWo"
   },
   "source": [
    "### ToDo: Implement functions for Stochastic Gradient Descent and Stochastic Gradient Descent with momentum and plot the difference on how they change the value for gradients. ( 1 + 1 (Bonus))"
   ]
  },
  {
   "cell_type": "code",
   "execution_count": 106,
   "id": "1GTctdfMnbUj",
   "metadata": {
    "id": "1GTctdfMnbUj"
   },
   "outputs": [],
   "source": [
    "model = TorchFFNetwork(5, 10)\n",
    "loss_function = nn.MSELoss()\n",
    "learning_rate = 0.01\n",
    "optimizer = torch.optim.SGD(model.parameters(), lr=learning_rate)\n",
    "optimizer_momentum = torch.optim.SGD(model.parameters(), lr=learning_rate, momentum=0.01)"
   ]
  },
  {
   "cell_type": "code",
   "execution_count": 107,
   "id": "-ju6oI-dqTvC",
   "metadata": {
    "id": "-ju6oI-dqTvC"
   },
   "outputs": [],
   "source": [
    "data_loader = torch.utils.data.DataLoader(dataset_flatten,\n",
    "                                          batch_size=16,\n",
    "                                          shuffle=True)"
   ]
  },
  {
   "cell_type": "code",
   "execution_count": 140,
   "id": "iEowkvNbpsQS",
   "metadata": {
    "colab": {
     "base_uri": "https://localhost:8080/"
    },
    "id": "iEowkvNbpsQS",
    "outputId": "62ab1ff5-24dd-4847-fd53-728ba7ac20ea"
   },
   "outputs": [
    {
     "name": "stdout",
     "output_type": "stream",
     "text": [
      "loss: 0.091056  [59200/60000]\n",
      "loss: 0.090390  [59200/60000]\n",
      "loss: 0.088841  [59200/60000]\n",
      "loss: 0.089581  [59200/60000]\n",
      "loss: 0.090674  [59200/60000]\n",
      "loss: 0.090059  [59200/60000]\n",
      "loss: 0.089975  [59200/60000]\n",
      "loss: 0.089553  [59200/60000]\n",
      "loss: 0.089374  [59200/60000]\n",
      "loss: 0.090438  [59200/60000]\n"
     ]
    }
   ],
   "source": [
    "losses = []\n",
    "grad_sums = []\n",
    "for i in range(10):\n",
    "  for batch, (X, y) in enumerate(data_loader):\n",
    "      # Compute prediction and loss\n",
    "      X.requires_grad = True\n",
    "      pred = model(X)\n",
    "      loss = loss_function(torch.stack(pred), torch.eye(10)[y-1])\n",
    "\n",
    "      # Backpropagation\n",
    "      optimizer.zero_grad()\n",
    "      loss.backward()\n",
    "      optimizer.step()\n",
    "\n",
    "      if batch % 100 == 0:\n",
    "          loss, current = loss.item(), batch * len(X)\n",
    "          grad_sums.append(X.grad)\n",
    "  print(f\"loss: {loss:>7f}  [{current:>5d}/{size:>5d}]\")\n",
    "  losses.append(loss)\n"
   ]
  },
  {
   "cell_type": "code",
   "execution_count": 141,
   "id": "KvPoc_KQcNgT",
   "metadata": {
    "colab": {
     "base_uri": "https://localhost:8080/"
    },
    "id": "KvPoc_KQcNgT",
    "outputId": "89e65cb8-c247-46e0-9c21-9c45de856f1f"
   },
   "outputs": [
    {
     "name": "stdout",
     "output_type": "stream",
     "text": [
      "loss: 0.090481  [59200/60000]\n",
      "loss: 0.090107  [59200/60000]\n",
      "loss: 0.090832  [59200/60000]\n",
      "loss: 0.090323  [59200/60000]\n",
      "loss: 0.090350  [59200/60000]\n",
      "loss: 0.089464  [59200/60000]\n",
      "loss: 0.090041  [59200/60000]\n",
      "loss: 0.090128  [59200/60000]\n",
      "loss: 0.089673  [59200/60000]\n",
      "loss: 0.089936  [59200/60000]\n"
     ]
    }
   ],
   "source": [
    "model = TorchFFNetwork(5, 10)\n",
    "\n",
    "losses_momentum = []\n",
    "grad_sums_momentum = []\n",
    "for i in range(10):\n",
    "  for batch, (X, y) in enumerate(data_loader):\n",
    "      # Compute prediction and loss\n",
    "      X.requires_grad = True\n",
    "      pred = model(X)\n",
    "      loss = loss_function(torch.stack(pred), torch.eye(10)[y-1])\n",
    "\n",
    "      # Backpropagation\n",
    "      optimizer.zero_grad()\n",
    "      loss.backward()\n",
    "      optimizer_momentum.step()\n",
    "\n",
    "      if batch % 100 == 0:\n",
    "          loss, current = loss.item(), batch * len(X)\n",
    "          grad_sums_momentum.append(X.grad)\n",
    "  print(f\"loss: {loss:>7f}  [{current:>5d}/{size:>5d}]\")\n",
    "  losses_momentum.append(loss)\n"
   ]
  },
  {
   "cell_type": "code",
   "execution_count": 149,
   "id": "u8vdtnRjptv2",
   "metadata": {
    "colab": {
     "base_uri": "https://localhost:8080/",
     "height": 276
    },
    "id": "u8vdtnRjptv2",
    "outputId": "2d1c57f9-24db-42ad-cd46-ad08703db789"
   },
   "outputs": [
    {
     "data": {
      "image/png": "[encoded data removed]",
      "text/plain": [
       "<Figure size 432x288 with 1 Axes>"
      ]
     },
     "metadata": {
      "needs_background": "light"
     },
     "output_type": "display_data"
    }
   ],
   "source": [
    "import matplotlib.pyplot as plt\n",
    "l = []\n",
    "for i in grad_sums:\n",
    "  l.append(sum(sum(i.detach().numpy())))\n",
    "l_m = []\n",
    "for i in grad_sums_momentum:\n",
    "  l_m.append(sum(sum(i.detach().numpy())))\n",
    "\n",
    "plt.plot(l, label=\"normal\")\n",
    "plt.plot(l_m, label=\"momentum\")\n",
    "plt.legend(loc=\"upper left\")\n",
    "plt.show()\n",
    "\n",
    "# I am not sure how exactly you want me to compare grads but as you can see, \n",
    "# grads are much more stable with momentum compared to normal. \n",
    "# Both have converged very early so we can not see them decrease much."
   ]
  },
  {
   "cell_type": "code",
   "execution_count": 138,
   "id": "dkOPctI9p7va",
   "metadata": {
    "colab": {
     "base_uri": "https://localhost:8080/"
    },
    "id": "dkOPctI9p7va",
    "outputId": "0219bb97-4968-4f02-fe88-8307ee85b9fe"
   },
   "outputs": [
    {
     "data": {
      "text/plain": [
       "tensor(-1.1852e-06)"
      ]
     },
     "execution_count": 138,
     "metadata": {},
     "output_type": "execute_result"
    }
   ],
   "source": [
    "sum(sum(grad_sums[0]))"
   ]
  }
 ],
 "metadata": {
  "colab": {
   "provenance": []
  },
  "kernelspec": {
   "display_name": "Python 3 (ipykernel)",
   "language": "python",
   "name": "python3"
  },
  "language_info": {
   "codemirror_mode": {
    "name": "ipython",
    "version": 3
   },
   "file_extension": ".py",
   "mimetype": "text/x-python",
   "name": "python",
   "nbconvert_exporter": "python",
   "pygments_lexer": "ipython3",
   "version": "3.9.7"
  }
 },
 "nbformat": 4,
 "nbformat_minor": 5
}
