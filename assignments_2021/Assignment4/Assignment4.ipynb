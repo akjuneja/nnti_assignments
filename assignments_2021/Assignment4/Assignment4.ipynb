{
 "cells": [
  {
   "cell_type": "markdown",
   "metadata": {},
   "source": [
    "# NNTI 21/22: Multiple Linear Regression "
   ]
  },
  {
   "cell_type": "markdown",
   "metadata": {},
   "source": [
    "**Important:** For all implementations in this assignment, make sure to use PyTorch whenever possible. Most computations on vectors and matrices can be implemented very efficiently using the PyTorch API. There is no need for looping over vectors etc using `for` loops. As a simple example, in order to compute the mean of a vector, just use `torch.mean()`. If you are not familiar with PyTorch please consult the PyTorch tutorials online. Further, in case of any doubts, the Piazza forum is the best place to ask questions and clarifications."
   ]
  },
  {
   "cell_type": "code",
   "execution_count": 17,
   "metadata": {},
   "outputs": [],
   "source": [
    "import itertools\n",
    "\n",
    "import torch\n",
    "import numpy as np\n",
    "import pandas as pd\n",
    "import sklearn\n",
    "\n",
    "import matplotlib.pyplot as plt\n",
    "%matplotlib inline\n",
    "\n",
    "import random\n",
    "\n",
    "torch.manual_seed(0)\n",
    "random.seed(0)\n",
    "np.random.seed(0)"
   ]
  },
  {
   "cell_type": "markdown",
   "metadata": {},
   "source": [
    "---"
   ]
  },
  {
   "cell_type": "markdown",
   "metadata": {
    "tags": []
   },
   "source": [
    "## 4.3. Multiple Linear Regression (8.0 points)\n",
    "\n",
    "In this exercise you will learn about [*multiple linear regression*](https://en.wikipedia.org/wiki/Linear_regression#Simple_and_multiple_linear_regression) while also experimenting with hyperparameter tuning. Performing regression on one independent (or explanatory) variable and a scalar dependent variable is called **simple linear regression**.\n",
    "But, when there are more than one explanatory variable (i.e. $x^{(1)}, x^{(2)}, ...,x^{(k)}$), and a single scalar dependent variable (*y*), then it's called **multiple linear regression**. (Do not confuse this with *multivariate linear regression* where we predict more than one (correlated) dependent variable.)\n",
    "\n",
    "Here, you will be implementing a **multiple linear regression** model in Python/PyTorch using the [*vanilla Gradient Descent*](https://ruder.io/optimizing-gradient-descent/index.html#gradientdescentvariants) algorithm. Particularly, we will be using a variant of the **stochastic gradient descent** (*SGD*) where one performs the update step using a small set of training samples of size *batch_size* which we will set to 64, i.e. we go through the training samples, sampling 64 at a time, and perform gradient descent. Such a procedure is sometimes called as **mini-batch gradient descent** in the deep neural networks community.\n",
    "\n",
    "Going through all the training samples *once* is called an **epoch**. Ideally, the training procedure has to go through multiple epochs over the training samples, each time shuffling it, until a convergence criterion has been satisfied. Here, we will set a *tolerance value* for the difference in error (i.e. change in Mean Squared Error (MSE) values between subsequent epochs) that we will accept. Once this difference falls below the *tolerance value*, we terminate our training phase and return the latest parameters. \n",
    "\n",
    "We repeat the above training procedure for all possible hyperparameter combinations in order to find the best parameters (i.e. weights) for our model. For this so called *hyperparameter tuning* we will be using the validation data. \n",
    "\n",
    "As a next step, we will combine training data and validation data and make it as our *new training data*. We keep the test data as it is, untouched throughout our experiments. Using the hyperparameter combination (for the least MSE) that we found above, we train the model *again* with the *new training data* and obtain the parameter (*i.e. weight vector*) after convergence according to our *tolerance value*.\n",
    "\n",
    "Phew! That will be our much desired *weight vector*. This is then used on the *test data*, which has not been seen by our algorithm so far, to make a prediction. The resulting MSE value will be the so-called [*generalization error*](https://en.wikipedia.org/wiki/Generalization_error). It is this *generalization error* that we want it to be as low as possible for some *unseen data* (implies that we can achieve higher accuracy)."
   ]
  },
  {
   "cell_type": "markdown",
   "metadata": {},
   "source": [
    "#### 4.3.1 Dataset\n",
    "For our task, we will be using the *Wine Quality* dataset and predict the quality of white wine based on 11 features such as acidity, citric acid content, residual sugar etc. . You can take a glance of the data using functions like *data.head()*."
   ]
  },
  {
   "cell_type": "code",
   "execution_count": 18,
   "metadata": {},
   "outputs": [
    {
     "data": {
      "text/html": [
       "<div>\n",
       "<style scoped>\n",
       "    .dataframe tbody tr th:only-of-type {\n",
       "        vertical-align: middle;\n",
       "    }\n",
       "\n",
       "    .dataframe tbody tr th {\n",
       "        vertical-align: top;\n",
       "    }\n",
       "\n",
       "    .dataframe thead th {\n",
       "        text-align: right;\n",
       "    }\n",
       "</style>\n",
       "<table border=\"1\" class=\"dataframe\">\n",
       "  <thead>\n",
       "    <tr style=\"text-align: right;\">\n",
       "      <th></th>\n",
       "      <th>fixed acidity</th>\n",
       "      <th>volatile acidity</th>\n",
       "      <th>citric acid</th>\n",
       "      <th>residual sugar</th>\n",
       "      <th>chlorides</th>\n",
       "      <th>free sulfur dioxide</th>\n",
       "      <th>total sulfur dioxide</th>\n",
       "      <th>density</th>\n",
       "      <th>pH</th>\n",
       "      <th>sulphates</th>\n",
       "      <th>alcohol</th>\n",
       "      <th>quality</th>\n",
       "    </tr>\n",
       "  </thead>\n",
       "  <tbody>\n",
       "    <tr>\n",
       "      <th>0</th>\n",
       "      <td>7.0</td>\n",
       "      <td>0.27</td>\n",
       "      <td>0.36</td>\n",
       "      <td>20.7</td>\n",
       "      <td>0.045</td>\n",
       "      <td>45.0</td>\n",
       "      <td>170.0</td>\n",
       "      <td>1.0010</td>\n",
       "      <td>3.00</td>\n",
       "      <td>0.45</td>\n",
       "      <td>8.8</td>\n",
       "      <td>6</td>\n",
       "    </tr>\n",
       "    <tr>\n",
       "      <th>1</th>\n",
       "      <td>6.3</td>\n",
       "      <td>0.30</td>\n",
       "      <td>0.34</td>\n",
       "      <td>1.6</td>\n",
       "      <td>0.049</td>\n",
       "      <td>14.0</td>\n",
       "      <td>132.0</td>\n",
       "      <td>0.9940</td>\n",
       "      <td>3.30</td>\n",
       "      <td>0.49</td>\n",
       "      <td>9.5</td>\n",
       "      <td>6</td>\n",
       "    </tr>\n",
       "    <tr>\n",
       "      <th>2</th>\n",
       "      <td>8.1</td>\n",
       "      <td>0.28</td>\n",
       "      <td>0.40</td>\n",
       "      <td>6.9</td>\n",
       "      <td>0.050</td>\n",
       "      <td>30.0</td>\n",
       "      <td>97.0</td>\n",
       "      <td>0.9951</td>\n",
       "      <td>3.26</td>\n",
       "      <td>0.44</td>\n",
       "      <td>10.1</td>\n",
       "      <td>6</td>\n",
       "    </tr>\n",
       "    <tr>\n",
       "      <th>3</th>\n",
       "      <td>7.2</td>\n",
       "      <td>0.23</td>\n",
       "      <td>0.32</td>\n",
       "      <td>8.5</td>\n",
       "      <td>0.058</td>\n",
       "      <td>47.0</td>\n",
       "      <td>186.0</td>\n",
       "      <td>0.9956</td>\n",
       "      <td>3.19</td>\n",
       "      <td>0.40</td>\n",
       "      <td>9.9</td>\n",
       "      <td>6</td>\n",
       "    </tr>\n",
       "    <tr>\n",
       "      <th>4</th>\n",
       "      <td>7.2</td>\n",
       "      <td>0.23</td>\n",
       "      <td>0.32</td>\n",
       "      <td>8.5</td>\n",
       "      <td>0.058</td>\n",
       "      <td>47.0</td>\n",
       "      <td>186.0</td>\n",
       "      <td>0.9956</td>\n",
       "      <td>3.19</td>\n",
       "      <td>0.40</td>\n",
       "      <td>9.9</td>\n",
       "      <td>6</td>\n",
       "    </tr>\n",
       "  </tbody>\n",
       "</table>\n",
       "</div>"
      ],
      "text/plain": [
       "   fixed acidity  volatile acidity  citric acid  residual sugar  chlorides  \\\n",
       "0            7.0              0.27         0.36            20.7      0.045   \n",
       "1            6.3              0.30         0.34             1.6      0.049   \n",
       "2            8.1              0.28         0.40             6.9      0.050   \n",
       "3            7.2              0.23         0.32             8.5      0.058   \n",
       "4            7.2              0.23         0.32             8.5      0.058   \n",
       "\n",
       "   free sulfur dioxide  total sulfur dioxide  density    pH  sulphates  \\\n",
       "0                 45.0                 170.0   1.0010  3.00       0.45   \n",
       "1                 14.0                 132.0   0.9940  3.30       0.49   \n",
       "2                 30.0                  97.0   0.9951  3.26       0.44   \n",
       "3                 47.0                 186.0   0.9956  3.19       0.40   \n",
       "4                 47.0                 186.0   0.9956  3.19       0.40   \n",
       "\n",
       "   alcohol  quality  \n",
       "0      8.8        6  \n",
       "1      9.5        6  \n",
       "2     10.1        6  \n",
       "3      9.9        6  \n",
       "4      9.9        6  "
      ]
     },
     "metadata": {},
     "output_type": "display_data"
    },
    {
     "name": "stdout",
     "output_type": "stream",
     "text": [
      "(4898, 12)\n"
     ]
    }
   ],
   "source": [
    "# get data\n",
    "data_url = 'https://archive.ics.uci.edu/ml/machine-learning-databases/wine-quality/winequality-white.csv'\n",
    "data = pd.read_csv(data_url, sep=';')\n",
    "\n",
    "# inspect data\n",
    "display(data.head())\n",
    "print(data.shape)\n",
    "\n",
    "# Get data as NumPy array\n",
    "data_np = data.values\n",
    "\n",
    "# Convert the data to Torch tensor\n",
    "data_tensor = torch.tensor(data_np, dtype=torch.float64)"
   ]
  },
  {
   "cell_type": "markdown",
   "metadata": {
    "tags": []
   },
   "source": [
    "#### 4.3.2. Loss function\n",
    "We will use a *regularized* form of the MSE loss function. In matrix-vector format it can be written as follows:\n",
    "\n",
    "\\begin{equation*}\n",
    "    J(\\textbf{w}) = \\frac{1}{2} \\Vert{X\\textbf{w}-\\textbf{y}}\\Vert^{2} + \\frac{\\lambda}{2}\\Vert{\\textbf{w}}\\Vert^{2}\n",
    "\\end{equation*}\n",
    "\n",
    "It's important to note that, in the above equation, $X$, called [**design matrix**](https://en.wikipedia.org/wiki/Design_matrix#Definition), consists of data points in our dataset. Each row corresponds to a data point whereas each column represents a feature. Therefore, the dimension of $X$ is *(number of data points, number of features)*. $X$ can be also thought as of the vertical concatenation of data points of shape *(batch_size, num_features)*. To make things easier and computationally efficient, you can add the *bias* term as the first column of $X$. Take care to have the *weight* vector $\\textbf{w}$ with matching dimensions. <br > (Hint: see [Design_matrix#Multiple_regression](https://en.wikipedia.org/wiki/Design_matrix#Multiple_regression) for how $X$ with 2 features looks like for a $1^{st}$ degree polynomial.)"
   ]
  },
  {
   "cell_type": "markdown",
   "metadata": {},
   "source": [
    "**Task 1:** (0.25 point) <br >\n",
    "Derive the gradient (w.r.t $\\textbf{w}$) for the regularized objective given in 4.3.2. \\[**Hint**: You can use your results from 3.2(a). However, make sure to adapt the result to the above objective\\]."
   ]
  },
  {
   "cell_type": "markdown",
   "metadata": {},
   "source": [
    "*Answer:* \n",
    "The answer is included in the pdf.\n",
    "\n"
   ]
  },
  {
   "cell_type": "markdown",
   "metadata": {},
   "source": [
    "---\n",
    "**Points:** $0.0$ of $0.25$\n",
    "\n",
    "**Comments:** None\n",
    "\n",
    "---"
   ]
  },
  {
   "cell_type": "markdown",
   "metadata": {},
   "source": [
    "#### 4.3.3. Matrix-vector format for higher order polynomial\n",
    "\n",
    "Written in matrix form, a linear regression model for second-order would look like: <br />\n",
    "$$\\hat{\\textbf{y}} = X\\textbf{w}_{1} + X^{2}\\textbf{w}_{2} + \\textbf{b}$$\n",
    "\n",
    "where $X^{2}$ is the element-wise squaring (i.e., Hadamard product of X with itself) of the original design matrix $X$, $\\textbf{w}_1$ and $\\textbf{w}_2$ are the *weight* vectors, and **b** is the *bias* vector.\n",
    "\n",
    "**Task 2:** (0.25 point) <br >\n",
    "Write down the matrix-vector format for an $8^{th}$ order linear regression model."
   ]
  },
  {
   "cell_type": "markdown",
   "metadata": {},
   "source": [
    "*Answer:* \n",
    "The answer is written in the pdf."
   ]
  },
  {
   "cell_type": "markdown",
   "metadata": {},
   "source": [
    "---\n",
    "**Points:** $0.0$ of $0.25$\n",
    "\n",
    "**Comments:** None\n",
    "\n",
    "---"
   ]
  },
  {
   "cell_type": "markdown",
   "metadata": {
    "tags": []
   },
   "source": [
    "#### 4.3.4. Hyperparameters\n",
    "Next, we will experiment with three hyperparameters for developing our model:\n",
    "\n",
    "i) regularization parameter $\\lambda$ <br />\n",
    "ii) learning rate $\\epsilon$ <br />\n",
    "iii) order of polynomial *p*\n",
    "\n",
    "And do a grid search over the values that these hyperparameters can take in order to select the best combination (i.e. the one that will achieve the lowest *test* error on our data). This approach is called **hyperparameter optimization or tuning**. For convenience and computational reasons, we will experiment with only three values for each of the hyperparameters."
   ]
  },
  {
   "cell_type": "code",
   "execution_count": 19,
   "metadata": {
    "tags": []
   },
   "outputs": [],
   "source": [
    "# Fix possible hyperparameters\n",
    "polynomial_orders = [1, 5, 9]\n",
    "learning_rates = [1e-5, 1e-6, 1e-8]\n",
    "lambdas = [0.1, 0.5, 0.8]\n",
    "\n",
    "\n",
    "\n",
    "# Fix batch size\n",
    "batch_size = 64"
   ]
  },
  {
   "cell_type": "markdown",
   "metadata": {
    "tags": []
   },
   "source": [
    "#### 4.3.5. Normalization\n",
    "First of all, inspect the data, and understand its structure and features. Ideally, before starting to train our learning algorithm, we would want the data to be normalized. Here, we normalize the data (i.e. normalize each column) using the following formula:\n",
    "\n",
    "\\begin{equation*}\n",
    "  norm\\_x_i = \\frac{x_i - min(x)}{max(x) - min(x)}\n",
    "\\end{equation*}\n",
    "where $x_i$ is the $i^{th}$ sample in feature $x$.\n",
    "\n",
    "**Task 3:** (0.25 point) <br > \n",
    "Complete the following function which performs normalization (i.e. normalizes the columns of $X$). Use only PyTorch."
   ]
  },
  {
   "cell_type": "code",
   "execution_count": 20,
   "metadata": {},
   "outputs": [],
   "source": [
    "def data_normalization(data):\n",
    "    # TODO: implement\n",
    "    min_c = data.min(0, keepdim=True)[0]\n",
    "    max_c = data.max(0, keepdim=True)[0]\n",
    "    for i in range(data.shape[0]):\n",
    "        for j in range(data.shape[1]):\n",
    "            data[i,j] = (data[i,j] - min_c[0][j])/(max_c[0][j] - min_c[0][j])\n",
    "    return data"
   ]
  },
  {
   "cell_type": "markdown",
   "metadata": {},
   "source": [
    "---\n",
    "**Points:** $0.0$ of $0.25$\n",
    "\n",
    "**Comments:** None\n",
    "\n",
    "---"
   ]
  },
  {
   "cell_type": "markdown",
   "metadata": {},
   "source": [
    "#### 4.3.6. Data Splitting and Shuffling\n",
    "Typically, we need to divide our data into 3 splits \\[ train (80%), validation (10%), and test (10%)\\] for experimentation purposes. And shuffle the training data during every epoch.\n",
    "\n",
    "**Task 4**: 0.25 points <br >\n",
    "Implement the following function `split_data()`. You can either implement it manually using `torch` or use sklearn."
   ]
  },
  {
   "cell_type": "code",
   "execution_count": 21,
   "metadata": {
    "tags": []
   },
   "outputs": [],
   "source": [
    "# Split the data into training, validation, and test sets\n",
    "from sklearn.model_selection import train_test_split\n",
    "from sklearn.utils import shuffle\n",
    "def split_data(data, n_train=3898, n_val=500, n_test=500):\n",
    "    # TODO: implement\n",
    "    X, y = data\n",
    "    X_train, temp_X_test, y_train, temp_y_test = train_test_split(X, y, test_size=0.20, random_state=0)\n",
    "    X_val, X_test, y_val, y_test = train_test_split(temp_X_test, temp_y_test, test_size=0.50, random_state=0)\n",
    "    \n",
    "    \n",
    "    return X_train, y_train, X_val, y_val, X_test, y_test\n",
    "\n",
    "\n",
    "# Shuffle only the training data along axis 0\n",
    "def shuffle_train_data(X_train, Y_train):\n",
    "    \"\"\"called after each epoch\"\"\"\n",
    "    # shuffling of data along axis 0\n",
    "    X, y = shuffle(X_train, Y_train, random_state=0)\n",
    "    \n",
    "    return X, y\n"
   ]
  },
  {
   "cell_type": "markdown",
   "metadata": {},
   "source": [
    "---\n",
    "**Points:** $0.0$ of $0.25$\n",
    "\n",
    "**Comments:** None\n",
    "\n",
    "---"
   ]
  },
  {
   "cell_type": "markdown",
   "metadata": {},
   "source": [
    "#### 4.3.7. Implementation of required functions\n",
    "\n",
    "**Task 5:** (0.5 point) <br >\n",
    "Complete the following function which computes the MSE value. You can ignore the regularization term and also the constant $\\frac{1}{2}$."
   ]
  },
  {
   "cell_type": "code",
   "execution_count": 22,
   "metadata": {
    "tags": []
   },
   "outputs": [],
   "source": [
    "# Compute Mean Squared Error \n",
    "def compute_mse(prediction, ground_truth):\n",
    "    '''\n",
    "    :param prediction: a nx1 vector represents the prediciton of your model\n",
    "    :param ground_truth: a nx1 vector represents the ground_truth\n",
    "    :return: MSE loss\n",
    "    '''\n",
    "    # TODO: implement\n",
    "    total_loss = 0\n",
    "    for i in range(len(prediction)):\n",
    "        diff = prediction[i] - ground_truth[i]\n",
    "        diff_s = diff * diff \n",
    "        total_loss = total_loss + diff_s\n",
    "    mse_loss = torch.sqrt(total_loss) / len(prediction)  \n",
    "    return mse_loss"
   ]
  },
  {
   "cell_type": "markdown",
   "metadata": {},
   "source": [
    "---\n",
    "**Points:** $0.0$ of $0.5$\n",
    "\n",
    "**Comments:** None\n",
    "\n",
    "---"
   ]
  },
  {
   "cell_type": "markdown",
   "metadata": {},
   "source": [
    "**Task 6:** (0.5 point) <br >\n",
    "Implement the function which computes the prediction of your model."
   ]
  },
  {
   "cell_type": "code",
   "execution_count": 23,
   "metadata": {
    "tags": []
   },
   "outputs": [],
   "source": [
    "def get_prediction(X, W):\n",
    "    '''\n",
    "    Given a design matrix X (could be a batch) and parameters W, calculate the prediction Yhat.\n",
    "    :param X: desgin matrix X of dimension nxk, where n is the number of data points (in the batch).\n",
    "    :param W: parameters\n",
    "    :return Yhat: the predictions\n",
    "    '''\n",
    "    # TODO: implement\n",
    "    y_hat = torch.matmul(X, W)\n",
    "    \n",
    "    return y_hat\n"
   ]
  },
  {
   "cell_type": "markdown",
   "metadata": {},
   "source": [
    "---\n",
    "**Points:** $0.0$ of $0.5$\n",
    "\n",
    "**Comments:** None\n",
    "\n",
    "---"
   ]
  },
  {
   "cell_type": "markdown",
   "metadata": {},
   "source": [
    "**Task 7:** (0.25 point) <br >\n",
    "Implement the function which computes the gradient of your loss function. That is, implement the gradient arrived at in Task 1."
   ]
  },
  {
   "cell_type": "code",
   "execution_count": 24,
   "metadata": {
    "tags": []
   },
   "outputs": [],
   "source": [
    "def compute_gradient(X, Y, Yhat, W, lambda_):\n",
    "    '''\n",
    "    :param X: designmatrix X\n",
    "    :param Y: ground truth labels correspoinding to X\n",
    "    :param Yhat: predicted labels\n",
    "    :param W: parameters\n",
    "    :param lambda_: coefficient for the regularizer\n",
    "    :return: gradient w.r.t W\n",
    "    '''\n",
    "    # TODO: implement\n",
    "    temp1 = torch.matmul(X.T, Yhat)\n",
    "    \n",
    "    temp2 = torch.matmul(X.T, Y.view(-1, 1))\n",
    "    \n",
    "    temp3 = lambda_ * W\n",
    "    \n",
    "    grad = temp1 - temp2 + temp3\n",
    "    \n",
    "    return grad\n"
   ]
  },
  {
   "cell_type": "markdown",
   "metadata": {},
   "source": [
    "---\n",
    "**Points:** $0.0$ of $0.25$\n",
    "\n",
    "**Comments:** None\n",
    "\n",
    "---"
   ]
  },
  {
   "cell_type": "markdown",
   "metadata": {},
   "source": [
    "**Task 8:** (0.5 point) <br >\n",
    "Implement the function which performs a single update step of mini-batch GD."
   ]
  },
  {
   "cell_type": "code",
   "execution_count": 25,
   "metadata": {
    "tags": []
   },
   "outputs": [],
   "source": [
    "# Hint: avoid in-place modification\n",
    "def sgd(gradient, lr, cur_W):\n",
    "    '''\n",
    "    :param gradient: gradient at cur_W\n",
    "    :param lr: learning rate\n",
    "    :param cur_W: current value of parameters\n",
    "    :return new_W: perform parameter update (using gradient descent) and return new_W\n",
    "    '''\n",
    "    # TODO: implement\n",
    "    new_W = cur_W - lr*gradient\n",
    "    \n",
    "    return new_W"
   ]
  },
  {
   "cell_type": "markdown",
   "metadata": {},
   "source": [
    "---\n",
    "**Points:** $0.0$ of $0.5$\n",
    "\n",
    "**Comments:** None\n",
    "\n",
    "---"
   ]
  },
  {
   "cell_type": "markdown",
   "metadata": {},
   "source": [
    "**Task 9:** (0.5 point) <br >\n",
    "Complete the following function which reformats your data as a design matrix, and accordingly the weight vector, for a given polynomial order."
   ]
  },
  {
   "cell_type": "code",
   "execution_count": 26,
   "metadata": {
    "tags": []
   },
   "outputs": [],
   "source": [
    "# concatenate X acc. to order of polynomial; likewise do it for W\n",
    "# where X is design matrix, W is the corresponding weight vector\n",
    "# concatenate matrix X horizontally, concatenate W vertically. That is, after this transformation, X gets broader and W gets longer\n",
    "# e.g. [1 X X^2 X^3], [1 W1 W2 W3]   #the square brackets does not signify python lists\n",
    "# \n",
    "def prepare_data_matrix(X, W, order):\n",
    "    # TODO: implement\n",
    "    ones = torch.ones((X.shape[0], 1))\n",
    "    one = torch.ones((1,1))\n",
    "    new_X = torch.cat((ones, X), 1)\n",
    "    new_W = torch.cat((one, W), 0)\n",
    "    if order > 1:\n",
    "        for o in range(1, order):\n",
    "            for i in range(X.shape[0]):\n",
    "                for j in range(X.shape[1]):\n",
    "                    X[i, j] = X[i, j] * X[i, j]\n",
    "            new_X = torch.cat((new_X, X), 1)\n",
    "            new_W = torch.cat((new_W, W), 0)\n",
    "                \n",
    "    return new_X, new_W"
   ]
  },
  {
   "cell_type": "markdown",
   "metadata": {},
   "source": [
    "---\n",
    "**Points:** $0.0$ of $0.5$\n",
    "\n",
    "**Comments:** None\n",
    "\n",
    "---"
   ]
  },
  {
   "cell_type": "markdown",
   "metadata": {},
   "source": [
    "#### 4.3.8. Training\n",
    "\n",
    "**Task 10:** (3 points) <br >\n",
    "Complete the code in the following cell such that it performs **mini-batch gradient descent** on the training data for all possible hyperparameter combinations.\n",
    "\n",
    "Note: You can also define a function, named appropriately (e.g. `train()`), which performs training. And, take care to do correct bookkeeping of hyperparameter combinations, weight vectors, and the MSE values in your function."
   ]
  },
  {
   "cell_type": "code",
   "execution_count": 27,
   "metadata": {
    "tags": []
   },
   "outputs": [],
   "source": [
    "all_params = list()\n",
    "\n",
    "def epoch_train(new_X_train, Y_train, W_init, lr, l):\n",
    "    data_points = new_X_train.shape[0]\n",
    "    epochs = 10\n",
    "    mse_list = list()\n",
    "    for e in range(epochs):\n",
    "        total = 0\n",
    "        while(total < data_points):\n",
    "            if total+64 < data_points:\n",
    "                batch_x = new_X_train[total : total+64, :]\n",
    "                batch_y = Y_train[total : total+64]\n",
    "            else:\n",
    "                batch_x = new_X_train[total : data_points, :]\n",
    "                batch_y = Y_train[total : data_points]\n",
    "            yhat = get_prediction(batch_x, W_init)\n",
    "            grad = compute_gradient(batch_x, batch_y, yhat, W_init, l)\n",
    "            #print(grad.shape)\n",
    "            W_init = sgd(grad, lr, W_init)\n",
    "            total = total + 64\n",
    "        shuffle_train_data(new_X_train, Y_train)\n",
    "        p = get_prediction(new_X_train, W_init)\n",
    "        mse = compute_mse(p, Y_train)\n",
    "        mse_list.append(mse)\n",
    "    return W_init, mse_list\n",
    "\n",
    "def train(X_train, Y_train, W_init, polynomial_orders, learning_rates, lambdas):\n",
    "    # TODO: implement\n",
    "    for o in polynomial_orders:\n",
    "        for lr in learning_rates:\n",
    "            for l in lambdas:\n",
    "                params = list()\n",
    "                params.append(o)\n",
    "                params.append(lr)\n",
    "                params.append(l)\n",
    "                new_X_train, new_W = prepare_data_matrix(X_train, W_init, o)\n",
    "                l_W, mse_list = epoch_train(new_X_train, Y_train, new_W, lr, l)\n",
    "                params.append(l_W)\n",
    "                params.append(mse_list)\n",
    "                all_params.append(params)\n"
   ]
  },
  {
   "cell_type": "markdown",
   "metadata": {},
   "source": [
    "---\n",
    "**Points:** $0.0$ of $3$\n",
    "\n",
    "**Comments:** None\n",
    "\n",
    "---"
   ]
  },
  {
   "cell_type": "markdown",
   "metadata": {},
   "source": [
    "**Task 11:** (0.25 point) <br >\n",
    "Complete the following function which selects the best hyperparameter combination given a set of weights (i.e. the one that gives lowest MSE on **validation data**)."
   ]
  },
  {
   "cell_type": "code",
   "execution_count": 28,
   "metadata": {
    "tags": []
   },
   "outputs": [],
   "source": [
    "# Select hparams of minimum MSE on Validation data\n",
    "def select_best_hparams(X_val, W):\n",
    "    # TODO: Implement\n",
    "    pred = get_prediction(X_val, W) \n",
    "    \n",
    "    return pred"
   ]
  },
  {
   "cell_type": "markdown",
   "metadata": {},
   "source": [
    "---\n",
    "**Points:** $0.0$ of $0.25$\n",
    "\n",
    "**Comments:** None\n",
    "\n",
    "---"
   ]
  },
  {
   "cell_type": "markdown",
   "metadata": {},
   "source": [
    "**Task 12:** (0.25 point) <br >\n",
    "Train the model for all possible hyperparameter combinations."
   ]
  },
  {
   "cell_type": "code",
   "execution_count": 29,
   "metadata": {},
   "outputs": [
    {
     "name": "stdout",
     "output_type": "stream",
     "text": [
      "Best combination\n",
      "Weight :\n",
      "tensor([[1.8169],\n",
      "        [1.2055],\n",
      "        [0.8539],\n",
      "        [0.6208],\n",
      "        [0.9898],\n",
      "        [0.7288],\n",
      "        [0.8846],\n",
      "        [0.4155],\n",
      "        [0.4544],\n",
      "        [0.9230],\n",
      "        [0.5390],\n",
      "        [0.7993],\n",
      "        [1.0422],\n",
      "        [0.7394],\n",
      "        [0.4943],\n",
      "        [0.9307],\n",
      "        [0.6553],\n",
      "        [0.8034],\n",
      "        [0.2537],\n",
      "        [0.3665],\n",
      "        [0.7384],\n",
      "        [0.3793],\n",
      "        [0.6324],\n",
      "        [0.9777],\n",
      "        [0.7096],\n",
      "        [0.4614],\n",
      "        [0.9206],\n",
      "        [0.6449],\n",
      "        [0.7905],\n",
      "        [0.1876],\n",
      "        [0.3514],\n",
      "        [0.6226],\n",
      "        [0.3067],\n",
      "        [0.5207],\n",
      "        [0.9696],\n",
      "        [0.7071],\n",
      "        [0.4591],\n",
      "        [0.9202],\n",
      "        [0.6444],\n",
      "        [0.7901],\n",
      "        [0.1782],\n",
      "        [0.3509],\n",
      "        [0.5865],\n",
      "        [0.2909],\n",
      "        [0.4707],\n",
      "        [0.9695],\n",
      "        [0.7070],\n",
      "        [0.4591],\n",
      "        [0.9202],\n",
      "        [0.6444],\n",
      "        [0.7901],\n",
      "        [0.1779],\n",
      "        [0.3509],\n",
      "        [0.5814],\n",
      "        [0.2887],\n",
      "        [0.4560]], dtype=torch.float64)\n",
      "Polynomial :\n",
      "5\n",
      "Learnin Rate :\n",
      "1e-05\n",
      "Lambda :\n",
      "0.1\n",
      "Mse loss on training data :\n",
      "[tensor([0.0460], dtype=torch.float64), tensor([0.0431], dtype=torch.float64), tensor([0.0404], dtype=torch.float64), tensor([0.0379], dtype=torch.float64), tensor([0.0356], dtype=torch.float64), tensor([0.0336], dtype=torch.float64), tensor([0.0317], dtype=torch.float64), tensor([0.0299], dtype=torch.float64), tensor([0.0283], dtype=torch.float64), tensor([0.0269], dtype=torch.float64)]\n"
     ]
    }
   ],
   "source": [
    "# Train the model with all possible hyperparameter combinations\n",
    "normalized_X = data_normalization(data_tensor[:, 0:11])\n",
    "X_train, y_train, X_val, y_val, X_test, y_test = split_data((normalized_X , data_tensor[:, 11]))\n",
    "W = torch.rand((11,1), dtype=torch.float64)\n",
    "train(X_train, y_train, W,  polynomial_orders, learning_rates, lambdas)\n",
    "\n",
    "\n",
    "# Find best hyperparameter combination\n",
    "loss = 1000000\n",
    "b_o = -1\n",
    "b_lr = -1\n",
    "b_l = -1\n",
    "b_w = None\n",
    "b_m = None\n",
    "for i in range(len(all_params)):\n",
    "    params = all_params[i]\n",
    "    order = params[0]\n",
    "    lr = params[1]\n",
    "    lambda_ = params[2]\n",
    "    w = params[3]\n",
    "    m = params[4]\n",
    "    x_val, _ = prepare_data_matrix(X_val, w, order)\n",
    "    pred = select_best_hparams(x_val, w)\n",
    "    new_loss = compute_mse(pred, y_val)\n",
    "    if new_loss < loss :\n",
    "        b_w = w\n",
    "        b_o = order\n",
    "        b_lr = lr\n",
    "        b_l = lambda_\n",
    "        b_m = m\n",
    "        loss = new_loss\n",
    "\n",
    "print('Best combination')        \n",
    "print('Weight :')\n",
    "print(b_w)\n",
    "print('Polynomial :')\n",
    "print(b_o)\n",
    "print('Learnin Rate :')\n",
    "print(b_lr)\n",
    "print('Lambda :')\n",
    "print(b_l)\n",
    "print('Mse loss on training data :')\n",
    "print(b_m)\n",
    "   "
   ]
  },
  {
   "cell_type": "markdown",
   "metadata": {},
   "source": [
    "---\n",
    "**Points:** $0.0$ of $0.25$\n",
    "\n",
    "**Comments:** None\n",
    "\n",
    "---"
   ]
  },
  {
   "cell_type": "markdown",
   "metadata": {},
   "source": [
    "#### 4.3.9. Re-Training on Train + Validation data\n",
    "**Task 13:** (0.5 point) <br >\n",
    "Now, we will concatenate the training and validation data and make it as the new training data.\n",
    "Complete the following which does re-training on the combined training and validation data."
   ]
  },
  {
   "cell_type": "code",
   "execution_count": 32,
   "metadata": {},
   "outputs": [],
   "source": [
    "# Re-run the training on X_train + X_val combined\n",
    "# Train the model with all possible hyperparameter combinations\n",
    "new_X_train = torch.cat((X_train, X_val), 0)\n",
    "new_y_train = torch.cat((y_train, y_val), 0)\n",
    "train(X_train, y_train, W,  polynomial_orders, learning_rates, lambdas)"
   ]
  },
  {
   "cell_type": "markdown",
   "metadata": {},
   "source": [
    "---\n",
    "**Points:** $0.0$ of $0.5$\n",
    "\n",
    "**Comments:** None\n",
    "\n",
    "---"
   ]
  },
  {
   "cell_type": "markdown",
   "metadata": {},
   "source": [
    "---\n",
    "**Visualizing MSE over epochs:** \n",
    "\n",
    "**Task 14**: 0.25 points <br>\n",
    "Plot the MSE values (y-axis) against epochs (x-axis) using matplotlib.\n",
    "\n",
    "---"
   ]
  },
  {
   "cell_type": "code",
   "execution_count": 30,
   "metadata": {},
   "outputs": [
    {
     "name": "stderr",
     "output_type": "stream",
     "text": [
      "/Users/fariaalam/opt/anaconda3/lib/python3.9/site-packages/numpy/core/_asarray.py:171: FutureWarning: The input object of type 'Tensor' is an array-like implementing one of the corresponding protocols (`__array__`, `__array_interface__` or `__array_struct__`); but not a sequence (or 0-D). In the future, this object will be coerced as if it was first converted using `np.array(obj)`. To retain the old behaviour, you have to either modify the type 'Tensor', or assign to an empty array created with `np.empty(correct_shape, dtype=object)`.\n",
      "  return array(a, dtype, copy=False, order=order, subok=True)\n",
      "/Users/fariaalam/opt/anaconda3/lib/python3.9/site-packages/numpy/core/_asarray.py:171: VisibleDeprecationWarning: Creating an ndarray from ragged nested sequences (which is a list-or-tuple of lists-or-tuples-or ndarrays with different lengths or shapes) is deprecated. If you meant to do this, you must specify 'dtype=object' when creating the ndarray.\n",
      "  return array(a, dtype, copy=False, order=order, subok=True)\n"
     ]
    },
    {
     "data": {
      "text/plain": [
       "[<matplotlib.lines.Line2D at 0x7fbe3827e070>]"
      ]
     },
     "execution_count": 30,
     "metadata": {},
     "output_type": "execute_result"
    },
    {
     "data": {
      "image/png": "[encoded data removed]",
      "text/plain": [
       "<Figure size 432x288 with 1 Axes>"
      ]
     },
     "metadata": {
      "needs_background": "light"
     },
     "output_type": "display_data"
    }
   ],
   "source": [
    "# Let's plot the convergence of MSE values using matplotlib, i.e. #epochs on X-axis and MSE values on Y-axis\n",
    "# TODO: implement\n",
    "fig, axes = plt.subplots()\n",
    "epochs = list(range(1,11))\n",
    "plt.xlabel('epochs')\n",
    "plt.ylabel('mse_loss')\n",
    "plt.title('epoch vs mse_loss plot with best hyperparameter for taining data')\n",
    "plt.plot(epochs, b_m)"
   ]
  },
  {
   "cell_type": "markdown",
   "metadata": {},
   "source": [
    "---\n",
    "**Points:** $0.0$ of $0.25$\n",
    "\n",
    "**Comments:** None\n",
    "\n",
    "---"
   ]
  },
  {
   "cell_type": "markdown",
   "metadata": {
    "tags": []
   },
   "source": [
    "#### 4.3.10. Evaluation on Test set\n",
    "**Task 15:** 0.25 points <br >\n",
    "Evaluate your model on the test data."
   ]
  },
  {
   "cell_type": "code",
   "execution_count": 31,
   "metadata": {},
   "outputs": [
    {
     "name": "stdout",
     "output_type": "stream",
     "text": [
      "0.1862706338019891\n"
     ]
    }
   ],
   "source": [
    "# test your model on X_test with the weight vector that you found above\n",
    "# this will be the generalization error of our model.\n",
    "x_test, _ = prepare_data_matrix(X_val, b_w, b_o)\n",
    "pred = get_prediction(x_test, b_w)\n",
    "test_mse = compute_mse(pred, y_val)\n",
    "print(test_mse.item())\n",
    "# TODO: implement"
   ]
  },
  {
   "cell_type": "markdown",
   "metadata": {},
   "source": [
    "---\n",
    "**Points:** $0.0$ of $0.25$\n",
    "\n",
    "**Comments:** None\n",
    "\n",
    "---"
   ]
  },
  {
   "cell_type": "markdown",
   "metadata": {},
   "source": [
    "#### 4.3.11. Results\n",
    "**Task 16:** 0.25 points <br >\n",
    "Report the MSE value on the test data. Which hyperparameter combination turned out to be the best? In your understanding, why do you think such a combination turned out to be the best for this task?\n",
    "\n",
    "Answer:\n",
    "\n",
    "Used number of epochs for training: 10 \n",
    "MSE value on the test data : 0.1862706338019891\n",
    "polynomial order : 5\n",
    "learning rate : 1e-05\n",
    "lambda : 0.1\n",
    "\n",
    "We are given 3 ploynomial orders, among them 9 is very big and 1 is very small for 1 the parameters become underfitted and for ploynomial 9 the paramters become overfitted. For big learning rates the gradients oscilates too much and the model become unstable but for very small learning rate the model doesn't learn at all, thats why I think learning rate 1e-05 is giving better results. As regularizer co-efficient 0.1 is always better since it penalizes the model very efficiently."
   ]
  },
  {
   "cell_type": "markdown",
   "metadata": {},
   "source": [
    "---\n",
    "**Points:** $0.0$ of $0.25$\n",
    "\n",
    "**Comments:** None\n",
    "\n",
    "---"
   ]
  },
  {
   "cell_type": "markdown",
   "metadata": {},
   "source": [
    "---"
   ]
  },
  {
   "cell_type": "markdown",
   "metadata": {},
   "source": [
    "## Points: 0.0 of 8.0 points"
   ]
  }
 ],
 "metadata": {
  "kernelspec": {
   "display_name": "Python 3 (ipykernel)",
   "language": "python",
   "name": "python3"
  },
  "language_info": {
   "codemirror_mode": {
    "name": "ipython",
    "version": 3
   },
   "file_extension": ".py",
   "mimetype": "text/x-python",
   "name": "python",
   "nbconvert_exporter": "python",
   "pygments_lexer": "ipython3",
   "version": "3.9.7"
  },
  "widgets": {
   "application/vnd.jupyter.widget-state+json": {
    "state": {},
    "version_major": 2,
    "version_minor": 0
   }
  }
 },
 "nbformat": 4,
 "nbformat_minor": 4
}
